{
 "cells": [
  {
   "cell_type": "markdown",
   "metadata": {},
   "source": [
    "# Day 0: Hello, World.\n",
    "\n",
    "**Objective**\n",
    "In this challenge, we review some basic concepts that will get you started with this series. You will need to use the same (or similar) syntax to read input and write output in challenges throughout HackerRank. Check out the [Tutorial](https://www.hackerrank.com/challenges/30-hello-world/tutorial) tab for learning materials and an instructional video! \n",
    "\n",
    "**Task**\n",
    "To complete this challenge, you must save a line of input from stdin to a variable, print `Hello, World`. on a single line, and finally print the value of your variable on a second line.\n",
    "\n",
    "**Note:** The instructions are Java-based, but we support submissions in many popular languages. You can switch languages using the drop-down menu above your editor, and the *`inputString`* variable may be written differently depending on the best-practice conventions of your submission language.\n",
    "\n",
    "**Input Format**\n",
    "\n",
    "A single line of text denoting *`inputString`* (the variable whose contents must be printed).\n",
    "\n",
    "**Output Format**\n",
    "\n",
    "Print `Hello, World.` on the first line, and the contents of *`inputString`* on the second line.\n",
    "\n",
    "**Sample Input**\n",
    "\n",
    "`Welcome to 30 Days of Code!`\n",
    "\n",
    "**Sample Output**\n",
    "\n",
    "`Hello, World. \n",
    "Welcome to 30 Days of Code!`\n",
    "\n",
    "**Explanation**\n",
    "\n",
    "On the first line, we print the string literal `Hello, World.`. On the second line, we print the contents of *`inputString`*  the variable which, for this sample case, happens to be `Welcome to 30 Days of Code!.` If you do not print the variable's contents to stdout, you will not pass the hidden test case."
   ]
  },
  {
   "cell_type": "code",
   "execution_count": 2,
   "metadata": {},
   "outputs": [
    {
     "name": "stdout",
     "output_type": "stream",
     "text": [
      "Welcome to 30 Days of Code!\n",
      "Hello, World.\n",
      "Welcome to 30 Days of Code!\n"
     ]
    }
   ],
   "source": [
    "# Read a full line of input from stdin and save it to our dynamically typed variable, input_string.\n",
    "input_string = input()\n",
    "\n",
    "# Print a string literal saying \"Hello, World.\" to stdout.\n",
    "print('Hello, World.')\n",
    "\n",
    "\n",
    "# TODO: Write a line of code here that prints the contents of input_string to stdout.\n",
    "print(input_string)"
   ]
  },
  {
   "cell_type": "markdown",
   "metadata": {
    "collapsed": true
   },
   "source": [
    "# Day 1: Data types\n",
    "\n",
    "**Objective**\n",
    "Today, we're discussing data types. Check out the [Tutorial](https://www.hackerrank.com/challenges/30-data-types/tutorial) tab for learning materials and an instructional video!\n",
    "\n",
    "**Task**\n",
    "Complete the code in the editor below. The variables *`i, d, and s`* are already declared and initialized for you. You must:\n",
    "\n",
    "1. Declare 3 variables: one of type `int`, one of type `double`, and one of type `String`.\n",
    "2. Read 3 lines of input from stdin (according to the sequence given in the Input Format section below) and initialize your 3 variables.\n",
    "3. Use `+` the operator to perform the following operations:\n",
    "4. Print the sum of *`i`* plus your int variable on a new line.\n",
    "5. Print the sum of *`d`* plus your double variable to a scale of one decimal place on a new line.\n",
    "6. Concatenate with the string *`s`* you read as input and print the result on a new line. \n",
    "\n",
    "**Note:** If you are using a language that doesn't support using for string concatenation `+` (e.g.: C), you can just print one variable immediately following the other on the same line. The string provided in your editor must be printed first, immediately followed by the string you read as input.\n",
    "\n",
    "**Input Format**\n",
    "\n",
    "The first line contains an integer that you must sum with *`i`* .\n",
    "The second line contains a double that you must sum with *`d`*.\n",
    "The third line contains a string that you must concatenate with *`s`*.\n",
    "\n",
    "**Output Format**\n",
    "\n",
    "Print the sum of both integers on the first line, the sum of both doubles (scaled to decimal place) on the second line, and then the two concatenated strings on the third line.\n",
    "\n",
    "**Sample Input**\n",
    "\n",
    "12\n",
    "4.0\n",
    "is the best place to learn and practice coding!\n",
    "\n",
    "**Sample Output**\n",
    "\n",
    "16\n",
    "8.0\n",
    "HackerRank is the best place to learn and practice coding!\n",
    "\n",
    "**Explanation**\n",
    "\n",
    "When we sum the integers and , we get the integer .\n",
    "When we sum the floating-point numbers and , we get .\n",
    "When we concatenate HackerRank with is the best place to learn and practice coding!, we get HackerRank is the best place to learn and practice coding!."
   ]
  },
  {
   "cell_type": "code",
   "execution_count": 4,
   "metadata": {},
   "outputs": [
    {
     "name": "stdout",
     "output_type": "stream",
     "text": [
      "Enter an inteteger: 3\n",
      "Enter a float: 6\n",
      "Enter a string: gsdgdsfg\n",
      "7\n",
      "10.0\n",
      "HackerRank gsdgdsfg\n"
     ]
    }
   ],
   "source": [
    "i = 4\n",
    "d = 4.0\n",
    "s = 'HackerRank '\n",
    "\n",
    "# Declare second integer, double, and String variables.\n",
    "#inputI = 0\n",
    "#inputd = 0.0\n",
    "#inputS = ''\n",
    "\n",
    "# Read and save an integer, double, and String to your variables.\n",
    "inputI = int(input(\"Enter an inteteger: \"))\n",
    "inputD = float(input(\"Enter a float: \"))\n",
    "inputS = input(\"Enter a string: \")\n",
    "\n",
    "# Print the sum of both integer variables on a new line.\n",
    "print(inputI + i)\n",
    "\n",
    "# Print the sum of the double variables on a new line.\n",
    "print(inputD+d)\n",
    "\n",
    "# Concatenate and print the String variables on a new line\n",
    "# The 's' variable above should be printed first.\n",
    "print(s + inputS)"
   ]
  },
  {
   "cell_type": "code",
   "execution_count": 5,
   "metadata": {},
   "outputs": [
    {
     "name": "stdout",
     "output_type": "stream",
     "text": [
      "Hello\n"
     ]
    }
   ],
   "source": [
    "print(\"Hello\")"
   ]
  },
  {
   "cell_type": "markdown",
   "metadata": {
    "collapsed": true
   },
   "source": [
    "# Day 2: Operators\n",
    "\n",
    "**Objective**\n",
    "In this challenge, you'll work with arithmetic operators. Check out the [Tutorial](https://www.hackerrank.com/challenges/30-operators/tutorial) tab for learning materials and an instructional video!\n",
    "\n",
    "**Task**\n",
    "Given the *meal price* (base cost of a meal), *tip percent* (the percentage of the meal price being added as tip), and *tax percent* (the percentage of the meal price being added as tax) for a meal, find and print the meal's total cost.\n",
    "\n",
    "**Note:** Be sure to use precise values for your calculations, or you may end up with an incorrectly rounded result!\n",
    "\n",
    "**Input Format**\n",
    "\n",
    "There are `3` lines of numeric input:\n",
    "The first line has a double, `mealCost` (the cost of the meal before tax and tip).\n",
    "The second line has an integer, `tipPercent` (the percentage of `mealCost` being added as tip).\n",
    "The third line has an integer, `taxPercent` (the percentage of `mealCost` being added as tax).\n",
    "\n",
    "**Output Format**\n",
    "\n",
    "Print `The total meal cost is totalCost dollars`., where `totalCost` is the rounded integer result of the entire bill (`mealCost` with added tax and tip).\n",
    "\n",
    "**Sample Input**\n",
    "\n",
    "12.00\n",
    "20\n",
    "8\n",
    "\n",
    "**Sample Output**\n",
    "\n",
    "The total meal cost is 15 dollars.\n",
    "\n",
    "**Explanation**\n",
    "\n",
    "Given:\n",
    "`mealCost = 12`, `tipPercent = 20` ,`taxPercent = 8`\n",
    "\n",
    "Calculations:\n",
    "\n",
    "$$tip=12\\times\\frac{20}{100}=2.4$$\n",
    "$$tax=12\\times\\frac{8}{100}=0.96$$\n",
    "$$totalCost=mealCost+1+tax=12+2.4+0.96= 5.36$$\n",
    "$$round(totalCost)=15$$\n",
    "\n",
    "We round `totalCost` to the nearest dollar (integer) and then print our result:\n",
    "\n",
    "`The total meal cost is 15 dollars.`\n"
   ]
  },
  {
   "cell_type": "code",
   "execution_count": 5,
   "metadata": {},
   "outputs": [
    {
     "name": "stdout",
     "output_type": "stream",
     "text": [
      "12\n",
      "20\n",
      "8\n",
      "The total meal cost is 15 dollars.\n"
     ]
    }
   ],
   "source": [
    "def get_total_cost_of_meal():\n",
    "    meal_cost = float(input()) # original meal price\n",
    "    tip_percent = int(input()) # tip percentage\n",
    "    tax_percent = int(input()) # tax percentage\n",
    "\n",
    "    # Write your calculation code here\n",
    "    tip = meal_cost*(tip_percent/100) # calculate tip\n",
    "    tax = meal_cost*(tax_percent/100) # caclulate tax\n",
    "\n",
    "    # cast the result of the rounding operation to an int and save it as total_cost \n",
    "    total_cost = int(round(meal_cost+tip+tax))\n",
    "    \n",
    "    return str(total_cost)\n",
    "\n",
    "# Print your result\n",
    "print(\"The total meal cost is \" + get_total_cost_of_meal() + \" dollars.\")"
   ]
  },
  {
   "cell_type": "markdown",
   "metadata": {
    "collapsed": true
   },
   "source": [
    "# Day 3: Intro to Conditional Statements\n",
    "\n",
    "**Objective**\n",
    "In this challenge, we're getting started with conditional statements. Check out the [Tutorial](https://www.hackerrank.com/challenges/30-conditional-statements/tutorial) tab for learning materials and an instructional video!\n",
    "\n",
    "**Task**\n",
    "Given an integer, *`n`*, perform the following conditional actions:\n",
    "\n",
    "* If *`n`* is odd, print Weird\n",
    "* If *`n`* is even and in the inclusive range of to , print Not Weird\n",
    "* If *`n`* is even and in the inclusive range of to , print Weird\n",
    "* If *`n`* is even and greater than , print Not Weird\n",
    "\n",
    "Complete the stub code provided in your editor to print whether or not is weird.\n",
    "\n",
    "**Input Format**\n",
    "\n",
    "A single line containing a positive integer, *`n`*.\n",
    "\n",
    "**Constraints**\n",
    "\n",
    "**Output Format**\n",
    "\n",
    "Print `Weird` if the number is weird; otherwise, print `Not Weird`.\n",
    "\n",
    "**Sample Input 0**\n",
    "\n",
    "`3`\n",
    "\n",
    "**Sample Output 0**\n",
    "\n",
    "`Weird`\n",
    "\n",
    "**Sample Input 1**\n",
    "\n",
    "`24`\n",
    "\n",
    "**Sample Output 1**\n",
    "\n",
    "`Not Weird`\n",
    "\n",
    "**Explanation**\n",
    "\n",
    "Sample Case 0: $n=3$ \\\\\n",
    "$n$ is odd and odd numbers are weird, so we print `Weird`.\n",
    "\n",
    "Sample Case 1: $n=24$\n",
    "$n > 20$ and $n$ is even, so it isn't weird. Thus, we print `Not Weird`."
   ]
  },
  {
   "cell_type": "code",
   "execution_count": 1,
   "metadata": {
    "collapsed": true
   },
   "outputs": [
    {
     "name": "stdout",
     "output_type": "stream",
     "text": [
      "99\n",
      "Weird\n"
     ]
    }
   ],
   "source": [
    "# !/bin/python3\n",
    "\n",
    "import sys\n",
    "\n",
    "\n",
    "N = int(input().strip()) #strip() removes whitespace at beginning and end\n",
    "\n",
    "if 1 <= N <=100:\n",
    "    if N % 2 == 1:\n",
    "        print('Weird')\n",
    "    elif N % 2 == 0:\n",
    "        if N in range (2,6):\n",
    "            print('Not Weird')\n",
    "        if N in range (6,21):\n",
    "            print('Weird')\n",
    "        if N > 20:\n",
    "            print('Not Weird')"
   ]
  },
  {
   "cell_type": "markdown",
   "metadata": {},
   "source": [
    "# Day 4: Class vs. Instance\n",
    "\n",
    "**Objective**\n",
    "In this challenge, we're going to learn about the difference between a `class` and an `instance`; because this is an `Object Oriented` concept, it's only enabled in certain languages. Check out the [Tutorial](https://www.hackerrank.com/challenges/30-class-vs-instance/tutorial) tab for learning materials and an instructional video!\n",
    "\n",
    "**Task**\n",
    "Write a `Person` class with an instance variable, `age` , and a constructor that takes an integer, `initialAge` , as a parameter. The constructor must assign `initialAge` to after confirming the argument passed as `initialAge` is not negative; if a negative argument is passed as `initialAge`, the constructor should set `age` to `0` and print `Age is not valid, setting age to 0.`. In addition, you must write the following instance methods:\n",
    "\n",
    "1. `yearPasses()` should increase the instance variable by `1`.\n",
    "2. `amIOld()` should perform the following conditional actions:\n",
    "* If $age < 13$ , print You are young..\n",
    "* If $age \\geq{13}$ and $age < 18$ print `You are a teenager..`\n",
    "* Otherwise, print `You are old.`.\n",
    "\n",
    "To help you learn by example and complete this challenge, much of the code is provided for you, but you'll be writing everything in the future. The code that creates each instance of your `Person` class is in the main method. Don't worry if you don't understand it all quite yet!\n",
    "\n",
    "**Note:** Do not remove or alter the stub code in the editor.\n",
    "\n",
    "**Input Format**\n",
    "\n",
    "Input is handled for you by the stub code in the editor.\n",
    "\n",
    "The first line contains an integer, `T` (the number of test cases), and the `T` subsequent lines each contain an integer denoting the `age` of a Person instance.\n",
    "\n",
    "**Constraints**  # 2 line spaces in markdown forms a new line!'''\n",
    "$1 \\leq{T} \\leq{4}$  \n",
    "$-5 \\leq{age} \\leq{30}$\n",
    "\n",
    "**Output Format**\n",
    "\n",
    "Complete the method definitions provided in the editor so they meet the specifications outlined above; the code to test your work is already in the editor. If your methods are implemented correctly, each test case will print `2` or `3` lines (depending on whether or not a valid `initialAge` was passed to the constructor).\n",
    "\n",
    "**Sample Input**\n",
    "\n",
    "`4\n",
    "-1\n",
    "10\n",
    "16\n",
    "18`\n",
    "\n",
    "**Sample Output**\n",
    "\n",
    "`Age is not valid, setting age to 0.\n",
    "You are young.\n",
    "You are young.`\n",
    "\n",
    "`You are young.\n",
    "You are a teenager.`\n",
    "\n",
    "`You are a teenager.\n",
    "You are old.`\n",
    "\n",
    "`You are old.\n",
    "You are old.`\n",
    "\n",
    "\n",
    "**Explanation**\n",
    "\n",
    "Test Case 0: $initialAge = -1$\n",
    "Because $initialAge < 0$, our code must set `age` to `0` and print the \"`Age is not valid...`\" message followed by the young message. Three years pass and `$age=3$` , so we print the young message again.\n",
    "\n",
    "Test Case 1: $initialAge = 10$\n",
    "Because $initialAge < 13$, our code should print that the person is young. Three years pass and $age = 13$, so we print that the person is now a teenager.\n",
    "\n",
    "Test Case 2: $initialAge = 16$\n",
    "Because $13 \\leq{initialAge} \\leq{18}$, our code should print that the person is a teenager. Three years pass and $age = 19$, so we print that the person is old.\n",
    "\n",
    "Test Case 3: $initialAge = 18$\n",
    "Because $initialAge \\geq{18}$, our code should print that the person is old. Three years pass and the person is still old at $age=21$, so we print the old message again.\n",
    "\n",
    "**The extra line at the end of the output is supposed to be there and is trimmed before being compared against the test case's expected output. If you're failing this challenge, check your logic and review your print statements for spelling errors.**"
   ]
  },
  {
   "cell_type": "code",
   "execution_count": 31,
   "metadata": {
    "collapsed": true
   },
   "outputs": [],
   "source": [
    "class Person:\n",
    "    def __init__(self,initialAge):\n",
    "        # Add some more code to run some checks on initialAge\n",
    "        if initialAge > 0:\n",
    "            self.age = initialAge\n",
    "        else:\n",
    "            selg.age = 0 #In python you have to use explicitly self to access instance attributes\n",
    "            print(\"Age is not valid, setting age to 0.\")\n",
    "    def amIOld(self):\n",
    "        # Do some computations in here and print out the correct statement to the console\n",
    "        if self.age < 13:\n",
    "            print(\"You are young.\")\n",
    "        elif 13 <= self.age < 18:\n",
    "            print(\"You are a teenager.\")\n",
    "        else:\n",
    "            print(\"You are old.\")\n",
    "    def yearPasses(self):\n",
    "        # Increment the age of the person in here   \n",
    "        self.age += 1"
   ]
  },
  {
   "cell_type": "code",
   "execution_count": 28,
   "metadata": {
    "scrolled": false
   },
   "outputs": [
    {
     "name": "stdout",
     "output_type": "stream",
     "text": [
      "4\n",
      "-1\n",
      "Age is not valid, setting age to 0.\n",
      "You are young.\n",
      "You are young.\n",
      "\n",
      "10\n",
      "You are young.\n",
      "You are a teenager.\n",
      "\n",
      "16\n",
      "You are a teenager.\n",
      "You are old\n",
      "\n",
      "18\n",
      "You are old\n",
      "You are old\n",
      "\n"
     ]
    }
   ],
   "source": [
    "t = int(input())\n",
    "for i in range(0, t):\n",
    "    age = int(input())         \n",
    "    p = Person(age)  \n",
    "    p.amIOld()\n",
    "    for j in range(0, 3):\n",
    "        p.yearPasses()       \n",
    "    p.amIOld()\n",
    "    print(\"\")\n"
   ]
  },
  {
   "cell_type": "markdown",
   "metadata": {},
   "source": [
    "# Day 5: Loops\n",
    "\n",
    "**Objective**\n",
    "In this challenge, we're going to use loops to help us do some simple math. Check out the [Tutorial](https://www.hackerrank.com/challenges/30-loops/tutorial) tab to learn more.\n",
    "\n",
    "**Task**\n",
    "Given an integer, `n`, print its first `10` multiples. Each multiple $x \\times{i}$ (where $1 \\leq{i} \\leq{10}$) should be printed on a new line in the form: `n x i = result`.\n",
    "\n",
    "**Input Format**\n",
    "\n",
    "A single integer, `n`.\n",
    "\n",
    "**Constraints**\n",
    "$2 \\leq{n} \\leq{20}$\n",
    "\n",
    "**Output Format**\n",
    "\n",
    "Print `10` lines of output; each line `i` (where $1 \\leq{i} \\leq{10}$) contains the `result` of $N \\times i$ in the form:\n",
    "`n x i = result`.\n",
    "\n",
    "**Sample Input**\n",
    "\n",
    "`2`\n",
    "\n",
    "**Sample Output**\n",
    "\n",
    "`2 x 1 = 2\n",
    "2 x 2 = 4\n",
    "2 x 3 = 6\n",
    "2 x 4 = 8\n",
    "2 x 5 = 10\n",
    "2 x 6 = 12\n",
    "2 x 7 = 14\n",
    "2 x 8 = 16\n",
    "2 x 9 = 18\n",
    "2 x 10 = 20`\n"
   ]
  },
  {
   "cell_type": "code",
   "execution_count": 37,
   "metadata": {
    "scrolled": true
   },
   "outputs": [
    {
     "name": "stdout",
     "output_type": "stream",
     "text": [
      "2\n",
      "2 x 1 = 2\n",
      "2 x 2 = 4\n",
      "2 x 3 = 6\n",
      "2 x 4 = 8\n",
      "2 x 5 = 10\n",
      "2 x 6 = 12\n",
      "2 x 7 = 14\n",
      "2 x 8 = 16\n",
      "2 x 9 = 18\n",
      "2 x 10 = 20\n"
     ]
    }
   ],
   "source": [
    "#!/bin/python3\n",
    "\n",
    "import sys\n",
    "\n",
    "\n",
    "n = int(input().strip())\n",
    "for i in range (1,11):\n",
    "    print(str(n) + \" x \" + str(i) + \" = \" + str(n*i))"
   ]
  },
  {
   "cell_type": "markdown",
   "metadata": {},
   "source": [
    "# Day 6: Let's Review\n",
    "\n",
    "**Objective**\n",
    "Today we're expanding our knowledge of Strings and combining it with what we've already learned about loops. Check out the [Tutorial](https://www.hackerrank.com/challenges/30-review-loop/tutorial) tab for learning materials and an instructional video!\n",
    "\n",
    "**Task**\n",
    "Given a string, `S`, of length `N` that is indexed from `0` to `N-1`, print its *even-indexed* and *odd-indexed* characters as `2` space-separated strings on a single line (see the `Sample` below for more detail).\n",
    "\n",
    "**Note:** `0` is considered to be an even index.\n",
    "\n",
    "**Input Format**\n",
    "\n",
    "The first line contains an integer, `T` (the number of test cases).\n",
    "Each line of `i` the `T` subsequent lines contain a String, `S`.\n",
    "\n",
    "**Constraints**\n",
    "* $1 \\leq{T} \\leq{10} $  \n",
    "* $2 \\leq{length of S} \\leq{10000}$  \n",
    "\n",
    "**Output Format**\n",
    "\n",
    "For each String $S_{j}$ (where $0 \\leq{j} \\leq{T-1}$ ), print $S_{j}$'s *even-indexed* characters, followed by a space, followed by $S_{j}$'s *odd-indexed* characters.\n",
    "\n",
    "**Sample Input**\n",
    "\n",
    "`2\n",
    "Hacker\n",
    "Rank`\n",
    "\n",
    "**Sample Output**\n",
    "\n",
    "`Hce akr\n",
    "Rn ak`\n",
    "\n",
    "**Explanation**\n",
    "\n",
    "Test Case 0: $S=\"Hacker\"$  \n",
    "$S[0] = \"H\"$  \n",
    "$S[1] = \"a\"$  \n",
    "$S[2] = \"c\"$  \n",
    "$S[3] = \"k\"$  \n",
    "$S[4] = \"e\"$  \n",
    "$S[5] = \"r\"$  \n",
    "\n",
    "The even indices are `0`, `2`, and `4`, and the odd indices are `1`, `3`, and `5`. We then print a *single line* of `1` space-separated strings; the first string contains the ordered characters from `S`'s *even* indices (`Hce`), and the second string contains the ordered characters from `S`'s *odd* indices (`akr`).\n",
    "\n",
    "Test Case 1: $S=\"Rank\"$  \n",
    "$S[0] = \"R\"$  \n",
    "$S[1] = \"a\"$  \n",
    "$S[2] = \"n\"$  \n",
    "$S[3] = \"k\"$  \n",
    "\n",
    "The even indices are `0`and `2`, and the odd indices are `1` and `3`. We then print a *single line* of `2` space-separated strings; the first string contains the ordered characters from `S`'s *even* indices (), and the second string contains the ordered characters from `S`'s *odd* indices ()."
   ]
  },
  {
   "cell_type": "code",
   "execution_count": 56,
   "metadata": {},
   "outputs": [
    {
     "name": "stdout",
     "output_type": "stream",
     "text": [
      "2\n",
      "Hacker\n",
      "Hce akr\n",
      "Rank\n",
      "Rn ak\n"
     ]
    }
   ],
   "source": [
    "#s = \"Rank\"\n",
    "#evenStr = \"\"\n",
    "#oddStr = \"\"\n",
    "\n",
    "import sys\n",
    "\n",
    "\n",
    "n = int(input())\n",
    "\n",
    "for j in range(n):\n",
    "    s = input()\n",
    "    evenStr = \"\"\n",
    "    oddStr = \"\"\n",
    "    for i in range (len(s)):\n",
    "        if i % 2 == 0:\n",
    "            evenStr += s[i]\n",
    "        else:\n",
    "            oddStr += s[i]\n",
    "\n",
    "    print(evenStr + \" \" + oddStr)"
   ]
  },
  {
   "cell_type": "markdown",
   "metadata": {},
   "source": [
    "# Day 7: Arrays\n",
    "\n",
    "**Objective**\n",
    "Today, we're learning about the `Array` data structure. Check out the [Tutorial](https://www.hackerrank.com/challenges/30-arrays/tutorial) tab for learning materials and an instructional video!\n",
    "\n",
    "**Task**\n",
    "Given an array, `A`, of `N` integers, print `A`'s elements in *reverse* order as a single line of space-separated numbers.\n",
    "\n",
    "**Input Format**\n",
    "\n",
    "The first line contains an integer, `N` (the size of our array).\n",
    "The second line contains `N` space-separated integers describing array `A`'s elements.\n",
    "\n",
    "**Constraints**\n",
    "* $1 \\leq{N} \\leq{1000}$\n",
    "* $1 \\leq{A_{i} \\leq{10000}}$   , where is the integer in the array.\n",
    "\n",
    "**Output Format**\n",
    "\n",
    "Print the elements of array `A` in reverse order as a single line of space-separated numbers.\n",
    "\n",
    "**Sample Input**\n",
    "\n",
    "`4\n",
    "1 4 3 2`\n",
    "\n",
    "**Sample Output**\n",
    "\n",
    "`2 3 4 1`"
   ]
  },
  {
   "cell_type": "code",
   "execution_count": 69,
   "metadata": {
    "scrolled": true
   },
   "outputs": [
    {
     "name": "stdout",
     "output_type": "stream",
     "text": [
      "4\n",
      "1 4 3 2\n",
      "2 3 4 1 "
     ]
    }
   ],
   "source": [
    "#!/bin/python3\n",
    "\n",
    "import sys\n",
    "\n",
    "n = int(input().strip()) \n",
    "arr = [int(arr_temp) for arr_temp in input().strip().split(' ')] \n",
    "arr.reverse() \n",
    "for i in arr: \n",
    "    print(i,end=' ')"
   ]
  },
  {
   "cell_type": "markdown",
   "metadata": {
    "collapsed": true
   },
   "source": [
    "# Day 8: Dictionaries and Maps\n",
    "\n",
    "**Objective**\n",
    "Today, we're learning about Key-Value pair mappings using a *Map* or *Dictionary* data structure. Check out the (Tutorial)[https://www.hackerrank.com/challenges/30-dictionaries-and-maps/tutorial] tab for learning materials and an instructional video!\n",
    "\n",
    "**Task**\n",
    "Given `n` names and phone numbers, assemble a phone book that maps friends' names to their respective phone numbers. You will then be given an unknown number of names to query your phone book for. For each `name` queried, print the associated entry from your phone book on a new line in the form `name=phoneNumber`; if an entry for `name` is not found, print `Not found` instead.\n",
    "\n",
    "**Note:** Your phone book should be a Dictionary/Map/HashMap data structure.\n",
    "\n",
    "**Input Format**\n",
    "\n",
    "The first line contains an integer, `n`, denoting the number of entries in the phone book.\n",
    "Each of the `n` subsequent lines describes an entry in the form of `2` space-separated values on a single line. The first value is a friend's name, and the second value is an `8`-digit phone number.\n",
    "\n",
    "After the `n` lines of phone book entries, there are an *unknown number of lines of queries*. Each line (query) contains a `name` to look up, and you must continue reading lines until there is no more input.\n",
    "\n",
    "**Note:** Names consist of lowercase English alphabetic letters and are *first names* only.\n",
    "\n",
    "**Constraints**\n",
    "\n",
    "* $1 \\leq{n} \\leq{10^{5}}$\n",
    "* $1 \\leq{queries} \\leq{10^{5}}$\n",
    "\n",
    "**Output Format**\n",
    "\n",
    "On a new line for each query, print `Not found` if the name has no corresponding entry in the phone book; otherwise, print the full `name` and `phoneNumber` in the format `name=phoneNumber`.\n",
    "\n",
    "**Sample Input**\n",
    "\n",
    "`3\n",
    "sam 99912222\n",
    "tom 11122222\n",
    "harry 12299933\n",
    "sam\n",
    "edward\n",
    "harry`\n",
    "\n",
    "**Sample Output**\n",
    "\n",
    "`sam=99912222\n",
    "Not found\n",
    "harry=12299933`\n",
    "\n",
    "**Explanation**\n",
    "\n",
    "We add the following $n=3$ *(Key,Value)* pairs to our map so it looks like this:\n",
    "\n",
    "$phoneBook={(sam,99912222),(tom, 1112222),(harry,12299933)}$\n",
    "\n",
    "We then process each query and print `key=value` if the queried is found in the map; otherwise, we print `Not found`.\n",
    "\n",
    "Query 0: `sam`\n",
    "Sam is one of the keys in our dictionary, so we print `sam=99912222`.\n",
    "\n",
    "Query 1: `edward`\n",
    "Edward is not one of the keys in our dictionary, so we print `Not found`.\n",
    "\n",
    "Query 2: `harry`\n",
    "Harry is one of the keys in our dictionary, so we print `harry=12299933`."
   ]
  },
  {
   "cell_type": "code",
   "execution_count": 8,
   "metadata": {},
   "outputs": [
    {
     "name": "stdout",
     "output_type": "stream",
     "text": [
      "a\n"
     ]
    },
    {
     "data": {
      "text/plain": [
       "{0: 'a', 1: 'e'}"
      ]
     },
     "execution_count": 8,
     "metadata": {},
     "output_type": "execute_result"
    }
   ],
   "source": [
    "#dictionary practice\n",
    "things = {}\n",
    "things[0]='a'\n",
    "print (things[0])\n",
    "things[1]='e'\n",
    "things\n"
   ]
  },
  {
   "cell_type": "code",
   "execution_count": null,
   "metadata": {
    "scrolled": true
   },
   "outputs": [
    {
     "name": "stdout",
     "output_type": "stream",
     "text": [
      "3\n",
      "sam 99912222\n",
      "tom 11122222\n",
      "harry 12299933\n",
      "sam\n",
      "sam=99912222\n",
      "edward\n",
      "Not found\n",
      "harry\n",
      "harry=12299933\n"
     ]
    }
   ],
   "source": [
    "phonebook = {} #declare the dictionary\n",
    "n = int(input().strip())  #number of entries in phone book\n",
    "for i in range (n):\n",
    "    inputArr =input().strip().split(' ') #splits input string into seperate array elements based on where the ' 'space is\n",
    "    name = inputArr[0]\n",
    "    number = inputArr[1]\n",
    "    phonebook[name]=number\n",
    "    #print(name)\n",
    "    #print (number)\n",
    "\n",
    "queryname = input()\n",
    "while queryname:\n",
    "    #print(querystring)\n",
    "    if phonebook.get(queryname):\n",
    "        print(queryname+\"=\"+phonebook[queryname])\n",
    "    else:\n",
    "        print(\"Not found\")\n",
    "    queryname = input()\n",
    "    \n",
    "    \n",
    "#for key in phonebook: #iterating a dictionary\n",
    "    \n",
    "    \n",
    "#print(phonebook)"
   ]
  },
  {
   "cell_type": "markdown",
   "metadata": {
    "collapsed": true
   },
   "source": [
    "**Objective**\n",
    "Today, we're learning and practicing an algorithmic concept called Recursion. Check out the [Tutorial](https://www.hackerrank.com/challenges/30-recursion/tutorial) tab for learning materials and an instructional video!\n",
    "\n",
    "**Recursive Method for Calculating Factorial**\n",
    "\n",
    "**Task**\n",
    "Write a factorial function that takes a positive integer, as a parameter and prints the result of ( factorial).\n",
    "\n",
    "**Note:** If you fail to use recursion or fail to name your recursive function factorial or Factorial, you will get a score of .\n",
    "\n",
    "**Input Format**\n",
    "\n",
    "A single integer, (the argument to pass to factorial).\n",
    "\n",
    "**Constraints**\n",
    "\n",
    "    Your submission must contain a recursive function named factorial.\n",
    "\n",
    "**Output Format**\n",
    "\n",
    "Print a single integer denoting .\n",
    "\n",
    "**Sample Input**\n",
    "\n",
    "3\n",
    "\n",
    "**Sample Output**\n",
    "\n",
    "6\n",
    "\n",
    "**Explanation**\n",
    "\n",
    "Consider the following steps:\n",
    "\n",
    "From steps and , we can say ; then when we apply the value from to step , we get . Thus, we print as our answer."
   ]
  }
 ],
 "metadata": {
  "kernelspec": {
   "display_name": "Python 3",
   "language": "python",
   "name": "python3"
  },
  "language_info": {
   "codemirror_mode": {
    "name": "ipython",
    "version": 3
   },
   "file_extension": ".py",
   "mimetype": "text/x-python",
   "name": "python",
   "nbconvert_exporter": "python",
   "pygments_lexer": "ipython3",
   "version": "3.5.2"
  }
 },
 "nbformat": 4,
 "nbformat_minor": 2
}
